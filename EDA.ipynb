{
 "cells": [
  {
   "cell_type": "markdown",
   "metadata": {},
   "source": [
    "# EDA for the dataset"
   ]
  },
  {
   "cell_type": "markdown",
   "metadata": {},
   "source": [
    "The first step is to look for inconsistencies in the data like; inconsistencies in the column names, outliers, \n",
    "NAN values, etc."
   ]
  },
  {
   "cell_type": "code",
   "execution_count": 1,
   "metadata": {},
   "outputs": [],
   "source": [
    "# Libraries\n",
    "import pandas as pd\n",
    "\n",
    "# Loading the dataset\n",
    "data = pd.read_csv('tabla.csv', sep=';')"
   ]
  },
  {
   "cell_type": "markdown",
   "metadata": {},
   "source": [
    "### Checking the column names of the data"
   ]
  },
  {
   "cell_type": "code",
   "execution_count": 2,
   "metadata": {},
   "outputs": [
    {
     "name": "stdout",
     "output_type": "stream",
     "text": [
      "Index(['#', 'Código de cliente/proveedor', 'vendedor',\n",
      "       'Nombre de cliente/proveedor', 'FA', 'mes', 'año',\n",
      "       'Fecha de contabilización', 'Total bruto', 'Ingreso bruto línea',\n",
      "       'Cantidad FA', 'Número de artículo', 'codigo padre', 'codigo padre.1',\n",
      "       'tipo insumo', 'Descripcion unión', 'Descripción del artículo',\n",
      "       'ID interno de documento', 'NC', 'Fecha de contabilización.1',\n",
      "       'Cantidad NC', 'Total bruto.1', 'Ingreso bruto línea.1', 'CUM',\n",
      "       'tipo cliente juan', 'tipo cliente juan.1', 'ABC ADJUDICACION'],\n",
      "      dtype='object')\n"
     ]
    }
   ],
   "source": [
    "print(data.columns)"
   ]
  },
  {
   "cell_type": "code",
   "execution_count": 4,
   "metadata": {},
   "outputs": [
    {
     "name": "stdout",
     "output_type": "stream",
     "text": [
      "Index(['#', 'codigo-de-cliente-proveedor', 'vendedor',\n",
      "       'nombre-de-cliente-proveedor', 'fa', 'mes', 'año',\n",
      "       'fecha-de-contabilizacion', 'total-bruto', 'ingreso-bruto-linea',\n",
      "       'cantidad-fa', 'numero-de-articulo', 'codigo-padre', 'codigo-padre.1',\n",
      "       'tipo-insumo', 'descripcion-union', 'descripcion-del-articulo',\n",
      "       'id-interno-de-documento', 'nc', 'fecha-de-contabilizacion.1',\n",
      "       'cantidad-nc', 'total-bruto.1', 'ingreso-bruto-linea.1', 'cum',\n",
      "       'tipo-cliente-juan', 'tipo-cliente-juan.1', 'abc-adjudicacion'],\n",
      "      dtype='object')\n"
     ]
    }
   ],
   "source": [
    "import re\n",
    "\n",
    "# Function to normalize the column names\n",
    "def normalize_names():\n",
    "    names = []\n",
    "    for name in data.columns:\n",
    "        name = name.lower()\n",
    "        name = re.sub(' ', '-', name)\n",
    "        name = re.sub('/', '-', name)\n",
    "        name = re.sub('á', 'a', name)\n",
    "        name = re.sub('é', 'e', name)\n",
    "        name = re.sub('í', 'i', name)\n",
    "        name = re.sub('ó', 'o', name)\n",
    "        name = re.sub('ú', 'u', name)\n",
    "        names.append(name)\n",
    "    return names\n",
    "        \n",
    "data.columns = normalize_names()    \n",
    "print(data.columns)"
   ]
  }
 ],
 "metadata": {
  "kernelspec": {
   "display_name": "Python 3",
   "language": "python",
   "name": "python3"
  },
  "language_info": {
   "codemirror_mode": {
    "name": "ipython",
    "version": 3
   },
   "file_extension": ".py",
   "mimetype": "text/x-python",
   "name": "python",
   "nbconvert_exporter": "python",
   "pygments_lexer": "ipython3",
   "version": "3.6.6"
  }
 },
 "nbformat": 4,
 "nbformat_minor": 2
}
