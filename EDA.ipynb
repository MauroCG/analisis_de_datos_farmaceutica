{
 "cells": [
  {
   "cell_type": "markdown",
   "metadata": {},
   "source": [
    "# EDA for the dataset"
   ]
  },
  {
   "cell_type": "markdown",
   "metadata": {},
   "source": [
    "The first step is to look for inconsistencies in the data like; inconsistencies in the column names, outliers, \n",
    "NAN values, etc."
   ]
  },
  {
   "cell_type": "code",
   "execution_count": 6,
   "metadata": {},
   "outputs": [
    {
     "ename": "FileNotFoundError",
     "evalue": "File b'tabla.csv' does not exist",
     "output_type": "error",
     "traceback": [
      "\u001b[1;31m---------------------------------------------------------------------------\u001b[0m",
      "\u001b[1;31mFileNotFoundError\u001b[0m                         Traceback (most recent call last)",
      "\u001b[1;32m<ipython-input-6-56712461b2c6>\u001b[0m in \u001b[0;36m<module>\u001b[1;34m\u001b[0m\n\u001b[0;32m      3\u001b[0m \u001b[1;33m\u001b[0m\u001b[0m\n\u001b[0;32m      4\u001b[0m \u001b[1;31m# Loading the dataset\u001b[0m\u001b[1;33m\u001b[0m\u001b[1;33m\u001b[0m\u001b[0m\n\u001b[1;32m----> 5\u001b[1;33m \u001b[0mdata\u001b[0m \u001b[1;33m=\u001b[0m \u001b[0mpd\u001b[0m\u001b[1;33m.\u001b[0m\u001b[0mread_csv\u001b[0m\u001b[1;33m(\u001b[0m\u001b[1;34m'tabla.csv'\u001b[0m\u001b[1;33m,\u001b[0m \u001b[0msep\u001b[0m\u001b[1;33m=\u001b[0m\u001b[1;34m';'\u001b[0m\u001b[1;33m)\u001b[0m\u001b[1;33m\u001b[0m\u001b[0m\n\u001b[0m",
      "\u001b[1;32mc:\\users\\lenovo\\appdata\\local\\programs\\python\\python35\\lib\\site-packages\\pandas\\io\\parsers.py\u001b[0m in \u001b[0;36mparser_f\u001b[1;34m(filepath_or_buffer, sep, delimiter, header, names, index_col, usecols, squeeze, prefix, mangle_dupe_cols, dtype, engine, converters, true_values, false_values, skipinitialspace, skiprows, nrows, na_values, keep_default_na, na_filter, verbose, skip_blank_lines, parse_dates, infer_datetime_format, keep_date_col, date_parser, dayfirst, iterator, chunksize, compression, thousands, decimal, lineterminator, quotechar, quoting, escapechar, comment, encoding, dialect, tupleize_cols, error_bad_lines, warn_bad_lines, skipfooter, doublequote, delim_whitespace, low_memory, memory_map, float_precision)\u001b[0m\n\u001b[0;32m    676\u001b[0m                     skip_blank_lines=skip_blank_lines)\n\u001b[0;32m    677\u001b[0m \u001b[1;33m\u001b[0m\u001b[0m\n\u001b[1;32m--> 678\u001b[1;33m         \u001b[1;32mreturn\u001b[0m \u001b[0m_read\u001b[0m\u001b[1;33m(\u001b[0m\u001b[0mfilepath_or_buffer\u001b[0m\u001b[1;33m,\u001b[0m \u001b[0mkwds\u001b[0m\u001b[1;33m)\u001b[0m\u001b[1;33m\u001b[0m\u001b[0m\n\u001b[0m\u001b[0;32m    679\u001b[0m \u001b[1;33m\u001b[0m\u001b[0m\n\u001b[0;32m    680\u001b[0m     \u001b[0mparser_f\u001b[0m\u001b[1;33m.\u001b[0m\u001b[0m__name__\u001b[0m \u001b[1;33m=\u001b[0m \u001b[0mname\u001b[0m\u001b[1;33m\u001b[0m\u001b[0m\n",
      "\u001b[1;32mc:\\users\\lenovo\\appdata\\local\\programs\\python\\python35\\lib\\site-packages\\pandas\\io\\parsers.py\u001b[0m in \u001b[0;36m_read\u001b[1;34m(filepath_or_buffer, kwds)\u001b[0m\n\u001b[0;32m    438\u001b[0m \u001b[1;33m\u001b[0m\u001b[0m\n\u001b[0;32m    439\u001b[0m     \u001b[1;31m# Create the parser.\u001b[0m\u001b[1;33m\u001b[0m\u001b[1;33m\u001b[0m\u001b[0m\n\u001b[1;32m--> 440\u001b[1;33m     \u001b[0mparser\u001b[0m \u001b[1;33m=\u001b[0m \u001b[0mTextFileReader\u001b[0m\u001b[1;33m(\u001b[0m\u001b[0mfilepath_or_buffer\u001b[0m\u001b[1;33m,\u001b[0m \u001b[1;33m**\u001b[0m\u001b[0mkwds\u001b[0m\u001b[1;33m)\u001b[0m\u001b[1;33m\u001b[0m\u001b[0m\n\u001b[0m\u001b[0;32m    441\u001b[0m \u001b[1;33m\u001b[0m\u001b[0m\n\u001b[0;32m    442\u001b[0m     \u001b[1;32mif\u001b[0m \u001b[0mchunksize\u001b[0m \u001b[1;32mor\u001b[0m \u001b[0miterator\u001b[0m\u001b[1;33m:\u001b[0m\u001b[1;33m\u001b[0m\u001b[0m\n",
      "\u001b[1;32mc:\\users\\lenovo\\appdata\\local\\programs\\python\\python35\\lib\\site-packages\\pandas\\io\\parsers.py\u001b[0m in \u001b[0;36m__init__\u001b[1;34m(self, f, engine, **kwds)\u001b[0m\n\u001b[0;32m    785\u001b[0m             \u001b[0mself\u001b[0m\u001b[1;33m.\u001b[0m\u001b[0moptions\u001b[0m\u001b[1;33m[\u001b[0m\u001b[1;34m'has_index_names'\u001b[0m\u001b[1;33m]\u001b[0m \u001b[1;33m=\u001b[0m \u001b[0mkwds\u001b[0m\u001b[1;33m[\u001b[0m\u001b[1;34m'has_index_names'\u001b[0m\u001b[1;33m]\u001b[0m\u001b[1;33m\u001b[0m\u001b[0m\n\u001b[0;32m    786\u001b[0m \u001b[1;33m\u001b[0m\u001b[0m\n\u001b[1;32m--> 787\u001b[1;33m         \u001b[0mself\u001b[0m\u001b[1;33m.\u001b[0m\u001b[0m_make_engine\u001b[0m\u001b[1;33m(\u001b[0m\u001b[0mself\u001b[0m\u001b[1;33m.\u001b[0m\u001b[0mengine\u001b[0m\u001b[1;33m)\u001b[0m\u001b[1;33m\u001b[0m\u001b[0m\n\u001b[0m\u001b[0;32m    788\u001b[0m \u001b[1;33m\u001b[0m\u001b[0m\n\u001b[0;32m    789\u001b[0m     \u001b[1;32mdef\u001b[0m \u001b[0mclose\u001b[0m\u001b[1;33m(\u001b[0m\u001b[0mself\u001b[0m\u001b[1;33m)\u001b[0m\u001b[1;33m:\u001b[0m\u001b[1;33m\u001b[0m\u001b[0m\n",
      "\u001b[1;32mc:\\users\\lenovo\\appdata\\local\\programs\\python\\python35\\lib\\site-packages\\pandas\\io\\parsers.py\u001b[0m in \u001b[0;36m_make_engine\u001b[1;34m(self, engine)\u001b[0m\n\u001b[0;32m   1012\u001b[0m     \u001b[1;32mdef\u001b[0m \u001b[0m_make_engine\u001b[0m\u001b[1;33m(\u001b[0m\u001b[0mself\u001b[0m\u001b[1;33m,\u001b[0m \u001b[0mengine\u001b[0m\u001b[1;33m=\u001b[0m\u001b[1;34m'c'\u001b[0m\u001b[1;33m)\u001b[0m\u001b[1;33m:\u001b[0m\u001b[1;33m\u001b[0m\u001b[0m\n\u001b[0;32m   1013\u001b[0m         \u001b[1;32mif\u001b[0m \u001b[0mengine\u001b[0m \u001b[1;33m==\u001b[0m \u001b[1;34m'c'\u001b[0m\u001b[1;33m:\u001b[0m\u001b[1;33m\u001b[0m\u001b[0m\n\u001b[1;32m-> 1014\u001b[1;33m             \u001b[0mself\u001b[0m\u001b[1;33m.\u001b[0m\u001b[0m_engine\u001b[0m \u001b[1;33m=\u001b[0m \u001b[0mCParserWrapper\u001b[0m\u001b[1;33m(\u001b[0m\u001b[0mself\u001b[0m\u001b[1;33m.\u001b[0m\u001b[0mf\u001b[0m\u001b[1;33m,\u001b[0m \u001b[1;33m**\u001b[0m\u001b[0mself\u001b[0m\u001b[1;33m.\u001b[0m\u001b[0moptions\u001b[0m\u001b[1;33m)\u001b[0m\u001b[1;33m\u001b[0m\u001b[0m\n\u001b[0m\u001b[0;32m   1015\u001b[0m         \u001b[1;32melse\u001b[0m\u001b[1;33m:\u001b[0m\u001b[1;33m\u001b[0m\u001b[0m\n\u001b[0;32m   1016\u001b[0m             \u001b[1;32mif\u001b[0m \u001b[0mengine\u001b[0m \u001b[1;33m==\u001b[0m \u001b[1;34m'python'\u001b[0m\u001b[1;33m:\u001b[0m\u001b[1;33m\u001b[0m\u001b[0m\n",
      "\u001b[1;32mc:\\users\\lenovo\\appdata\\local\\programs\\python\\python35\\lib\\site-packages\\pandas\\io\\parsers.py\u001b[0m in \u001b[0;36m__init__\u001b[1;34m(self, src, **kwds)\u001b[0m\n\u001b[0;32m   1706\u001b[0m         \u001b[0mkwds\u001b[0m\u001b[1;33m[\u001b[0m\u001b[1;34m'usecols'\u001b[0m\u001b[1;33m]\u001b[0m \u001b[1;33m=\u001b[0m \u001b[0mself\u001b[0m\u001b[1;33m.\u001b[0m\u001b[0musecols\u001b[0m\u001b[1;33m\u001b[0m\u001b[0m\n\u001b[0;32m   1707\u001b[0m \u001b[1;33m\u001b[0m\u001b[0m\n\u001b[1;32m-> 1708\u001b[1;33m         \u001b[0mself\u001b[0m\u001b[1;33m.\u001b[0m\u001b[0m_reader\u001b[0m \u001b[1;33m=\u001b[0m \u001b[0mparsers\u001b[0m\u001b[1;33m.\u001b[0m\u001b[0mTextReader\u001b[0m\u001b[1;33m(\u001b[0m\u001b[0msrc\u001b[0m\u001b[1;33m,\u001b[0m \u001b[1;33m**\u001b[0m\u001b[0mkwds\u001b[0m\u001b[1;33m)\u001b[0m\u001b[1;33m\u001b[0m\u001b[0m\n\u001b[0m\u001b[0;32m   1709\u001b[0m \u001b[1;33m\u001b[0m\u001b[0m\n\u001b[0;32m   1710\u001b[0m         \u001b[0mpassed_names\u001b[0m \u001b[1;33m=\u001b[0m \u001b[0mself\u001b[0m\u001b[1;33m.\u001b[0m\u001b[0mnames\u001b[0m \u001b[1;32mis\u001b[0m \u001b[1;32mNone\u001b[0m\u001b[1;33m\u001b[0m\u001b[0m\n",
      "\u001b[1;32mpandas\\_libs\\parsers.pyx\u001b[0m in \u001b[0;36mpandas._libs.parsers.TextReader.__cinit__\u001b[1;34m()\u001b[0m\n",
      "\u001b[1;32mpandas\\_libs\\parsers.pyx\u001b[0m in \u001b[0;36mpandas._libs.parsers.TextReader._setup_parser_source\u001b[1;34m()\u001b[0m\n",
      "\u001b[1;31mFileNotFoundError\u001b[0m: File b'tabla.csv' does not exist"
     ]
    }
   ],
   "source": [
    "# Libraries\n",
    "import pandas as pd\n",
    "\n",
    "# Loading the dataset\n",
    "data = pd.read_csv('tabla.csv', sep=';')"
   ]
  },
  {
   "cell_type": "markdown",
   "metadata": {},
   "source": [
    "### Checking the column names of the data"
   ]
  },
  {
   "cell_type": "code",
   "execution_count": 5,
   "metadata": {},
   "outputs": [
    {
     "ename": "NameError",
     "evalue": "name 'data' is not defined",
     "output_type": "error",
     "traceback": [
      "\u001b[1;31m---------------------------------------------------------------------------\u001b[0m",
      "\u001b[1;31mNameError\u001b[0m                                 Traceback (most recent call last)",
      "\u001b[1;32m<ipython-input-5-61cf3295a4dd>\u001b[0m in \u001b[0;36m<module>\u001b[1;34m\u001b[0m\n\u001b[1;32m----> 1\u001b[1;33m \u001b[0mprint\u001b[0m\u001b[1;33m(\u001b[0m\u001b[0mdata\u001b[0m\u001b[1;33m.\u001b[0m\u001b[0mcolumns\u001b[0m\u001b[1;33m)\u001b[0m\u001b[1;33m\u001b[0m\u001b[0m\n\u001b[0m",
      "\u001b[1;31mNameError\u001b[0m: name 'data' is not defined"
     ]
    }
   ],
   "source": [
    "print(data.columns)"
   ]
  },
  {
   "cell_type": "code",
   "execution_count": 2,
   "metadata": {},
   "outputs": [
    {
     "ename": "NameError",
     "evalue": "name 'data' is not defined",
     "output_type": "error",
     "traceback": [
      "\u001b[1;31m---------------------------------------------------------------------------\u001b[0m",
      "\u001b[1;31mNameError\u001b[0m                                 Traceback (most recent call last)",
      "\u001b[1;32m<ipython-input-2-e722c1f7dc82>\u001b[0m in \u001b[0;36m<module>\u001b[1;34m\u001b[0m\n\u001b[0;32m     16\u001b[0m     \u001b[1;32mreturn\u001b[0m \u001b[0mnames\u001b[0m\u001b[1;33m\u001b[0m\u001b[0m\n\u001b[0;32m     17\u001b[0m \u001b[1;33m\u001b[0m\u001b[0m\n\u001b[1;32m---> 18\u001b[1;33m \u001b[0mdata\u001b[0m\u001b[1;33m.\u001b[0m\u001b[0mcolumns\u001b[0m \u001b[1;33m=\u001b[0m \u001b[0mnormalize_names\u001b[0m\u001b[1;33m(\u001b[0m\u001b[1;33m)\u001b[0m\u001b[1;33m\u001b[0m\u001b[0m\n\u001b[0m\u001b[0;32m     19\u001b[0m \u001b[0mprint\u001b[0m\u001b[1;33m(\u001b[0m\u001b[0mdata\u001b[0m\u001b[1;33m.\u001b[0m\u001b[0mcolumns\u001b[0m\u001b[1;33m)\u001b[0m\u001b[1;33m\u001b[0m\u001b[0m\n",
      "\u001b[1;32m<ipython-input-2-e722c1f7dc82>\u001b[0m in \u001b[0;36mnormalize_names\u001b[1;34m()\u001b[0m\n\u001b[0;32m      4\u001b[0m \u001b[1;32mdef\u001b[0m \u001b[0mnormalize_names\u001b[0m\u001b[1;33m(\u001b[0m\u001b[1;33m)\u001b[0m\u001b[1;33m:\u001b[0m\u001b[1;33m\u001b[0m\u001b[0m\n\u001b[0;32m      5\u001b[0m     \u001b[0mnames\u001b[0m \u001b[1;33m=\u001b[0m \u001b[1;33m[\u001b[0m\u001b[1;33m]\u001b[0m\u001b[1;33m\u001b[0m\u001b[0m\n\u001b[1;32m----> 6\u001b[1;33m     \u001b[1;32mfor\u001b[0m \u001b[0mname\u001b[0m \u001b[1;32min\u001b[0m \u001b[0mdata\u001b[0m\u001b[1;33m.\u001b[0m\u001b[0mcolumns\u001b[0m\u001b[1;33m:\u001b[0m\u001b[1;33m\u001b[0m\u001b[0m\n\u001b[0m\u001b[0;32m      7\u001b[0m         \u001b[0mname\u001b[0m \u001b[1;33m=\u001b[0m \u001b[0mname\u001b[0m\u001b[1;33m.\u001b[0m\u001b[0mlower\u001b[0m\u001b[1;33m(\u001b[0m\u001b[1;33m)\u001b[0m\u001b[1;33m\u001b[0m\u001b[0m\n\u001b[0;32m      8\u001b[0m         \u001b[0mname\u001b[0m \u001b[1;33m=\u001b[0m \u001b[0mre\u001b[0m\u001b[1;33m.\u001b[0m\u001b[0msub\u001b[0m\u001b[1;33m(\u001b[0m\u001b[1;34m' '\u001b[0m\u001b[1;33m,\u001b[0m \u001b[1;34m'-'\u001b[0m\u001b[1;33m,\u001b[0m \u001b[0mname\u001b[0m\u001b[1;33m)\u001b[0m\u001b[1;33m\u001b[0m\u001b[0m\n",
      "\u001b[1;31mNameError\u001b[0m: name 'data' is not defined"
     ]
    }
   ],
   "source": [
    "import re\n",
    "\n",
    "# Function to normalize the column names\n",
    "def normalize_names():\n",
    "    names = []\n",
    "    for name in data.columns:\n",
    "        name = name.lower()\n",
    "        name = re.sub(' ', '-', name)\n",
    "        name = re.sub('/', '-', name)\n",
    "        name = re.sub('á', 'a', name)\n",
    "        name = re.sub('é', 'e', name)\n",
    "        name = re.sub('í', 'i', name)\n",
    "        name = re.sub('ó', 'o', name)\n",
    "        name = re.sub('ú', 'u', name)\n",
    "        names.append(name)\n",
    "    return names\n",
    "        \n",
    "data.columns = normalize_names()    \n",
    "print(data.columns)"
   ]
  },
  {
   "cell_type": "markdown",
   "metadata": {},
   "source": [
    "### Checking the data types "
   ]
  },
  {
   "cell_type": "code",
   "execution_count": 5,
   "metadata": {},
   "outputs": [
    {
     "name": "stdout",
     "output_type": "stream",
     "text": [
      "       # codigo-de-cliente-proveedor            vendedor  \\\n",
      "0  19242                  C821003143  OMAR GIL Y DIOMARY   \n",
      "1  19243                  C821003143  OMAR GIL Y DIOMARY   \n",
      "2  19245                  C821003143  OMAR GIL Y DIOMARY   \n",
      "3  19246                  C821003143  OMAR GIL Y DIOMARY   \n",
      "4  19247                  C821003143  OMAR GIL Y DIOMARY   \n",
      "\n",
      "                         nombre-de-cliente-proveedor  fa    mes   año  \\\n",
      "0  HOSPITAL DEPARTAMENTAL CENTENARIO DE SEVILLA E...   1  marzo  2016   \n",
      "1  HOSPITAL DEPARTAMENTAL CENTENARIO DE SEVILLA E...   1  marzo  2016   \n",
      "2  HOSPITAL DEPARTAMENTAL CENTENARIO DE SEVILLA E...   1  marzo  2016   \n",
      "3  HOSPITAL DEPARTAMENTAL CENTENARIO DE SEVILLA E...   1  marzo  2016   \n",
      "4  HOSPITAL DEPARTAMENTAL CENTENARIO DE SEVILLA E...   1  marzo  2016   \n",
      "\n",
      "  fecha-de-contabilizacion total-bruto ingreso-bruto-linea       ...         \\\n",
      "0               28/03/2016          30                   0       ...          \n",
      "1               28/03/2016         387                   0       ...          \n",
      "2               28/03/2016        3100                   0       ...          \n",
      "3               28/03/2016        5600                   0       ...          \n",
      "4               28/03/2016       10475                   0       ...          \n",
      "\n",
      "   id-interno-de-documento  nc fecha-de-contabilizacion.1 cantidad-nc  \\\n",
      "0                     5963 NaN                        NaN           0   \n",
      "1                     5963 NaN                        NaN           0   \n",
      "2                     5963 NaN                        NaN           0   \n",
      "3                     5963 NaN                        NaN           0   \n",
      "4                     5963 NaN                        NaN           0   \n",
      "\n",
      "   total-bruto.1 ingreso-bruto-linea.1  cum  tipo-cliente-juan  \\\n",
      "0              0                     0  NaN                  2   \n",
      "1              0                     0  NaN                  2   \n",
      "2              0                     0  NaN                  2   \n",
      "3              0                     0  NaN                  2   \n",
      "4              0                     0  NaN                  2   \n",
      "\n",
      "   tipo-cliente-juan.1 abc-adjudicacion  \n",
      "0          NO ASOCIADO              NaN  \n",
      "1          NO ASOCIADO              NaN  \n",
      "2          NO ASOCIADO              NaN  \n",
      "3          NO ASOCIADO              NaN  \n",
      "4          NO ASOCIADO              NaN  \n",
      "\n",
      "[5 rows x 27 columns]\n",
      "<class 'pandas.core.frame.DataFrame'>\n",
      "RangeIndex: 123193 entries, 0 to 123192\n",
      "Data columns (total 27 columns):\n",
      "#                              123193 non-null int64\n",
      "codigo-de-cliente-proveedor    123193 non-null object\n",
      "vendedor                       123193 non-null object\n",
      "nombre-de-cliente-proveedor    123193 non-null object\n",
      "fa                             123193 non-null int64\n",
      "mes                            123193 non-null object\n",
      "año                            123193 non-null int64\n",
      "fecha-de-contabilizacion       123193 non-null object\n",
      "total-bruto                    123193 non-null object\n",
      "ingreso-bruto-linea            123193 non-null object\n",
      "cantidad-fa                    123193 non-null int64\n",
      "numero-de-articulo             123142 non-null object\n",
      "codigo-padre                   123142 non-null object\n",
      "codigo-padre.1                 123142 non-null object\n",
      "tipo-insumo                    123038 non-null float64\n",
      "descripcion-union              123142 non-null object\n",
      "descripcion-del-articulo       123142 non-null object\n",
      "id-interno-de-documento        123193 non-null int64\n",
      "nc                             3962 non-null float64\n",
      "fecha-de-contabilizacion.1     3962 non-null object\n",
      "cantidad-nc                    123193 non-null int64\n",
      "total-bruto.1                  123193 non-null object\n",
      "ingreso-bruto-linea.1          123193 non-null object\n",
      "cum                            100011 non-null object\n",
      "tipo-cliente-juan              123193 non-null int64\n",
      "tipo-cliente-juan.1            123193 non-null object\n",
      "abc-adjudicacion               117596 non-null object\n",
      "dtypes: float64(2), int64(7), object(18)\n",
      "memory usage: 16.9+ MB\n",
      "None\n"
     ]
    }
   ],
   "source": [
    "print(data.head())\n",
    "print(data.info())\n"
   ]
  },
  {
   "cell_type": "markdown",
   "metadata": {},
   "source": [
    "año should be object, total bruto should be float64, ingreso-linea-bruto should be float64, \n",
    "total-bruto.1 should be foat64, ingreso-bruto-linea.1 should be float64, cum should be float64, \n",
    "tipo-cliente-juan should be object and tipo-insumo should be object\n"
   ]
  },
  {
   "cell_type": "markdown",
   "metadata": {},
   "source": [
    "### Changing the data types"
   ]
  },
  {
   "cell_type": "code",
   "execution_count": 12,
   "metadata": {},
   "outputs": [
    {
     "name": "stdout",
     "output_type": "stream",
     "text": [
      "<class 'pandas.core.frame.DataFrame'>\n",
      "RangeIndex: 123193 entries, 0 to 123192\n",
      "Data columns (total 27 columns):\n",
      "#                              123193 non-null int64\n",
      "codigo-de-cliente/proveedor    123193 non-null object\n",
      "vendedor                       123193 non-null object\n",
      "nombre-de-cliente/proveedor    123193 non-null object\n",
      "fa                             123193 non-null int64\n",
      "mes                            123193 non-null object\n",
      "año                            123193 non-null object\n",
      "fecha-de-contabilizacion       123193 non-null object\n",
      "total-bruto                    123193 non-null float64\n",
      "ingreso-bruto-linea            123193 non-null object\n",
      "cantidad-fa                    123193 non-null int64\n",
      "numero-de-articulo             123142 non-null object\n",
      "codigo-padre                   123142 non-null object\n",
      "codigo-padre.1                 123142 non-null object\n",
      "tipo-insumo                    123038 non-null float64\n",
      "descripcion-union              123142 non-null object\n",
      "descripcion-del-articulo       123142 non-null object\n",
      "id-interno-de-documento        123193 non-null int64\n",
      "nc                             3962 non-null float64\n",
      "fecha-de-contabilizacion.1     3962 non-null object\n",
      "cantidad-nc                    123193 non-null int64\n",
      "total-bruto.1                  123193 non-null float64\n",
      "ingreso-bruto-linea.1          123193 non-null object\n",
      "cum                            100011 non-null object\n",
      "tipo-cliente-juan              123193 non-null int64\n",
      "tipo-cliente-juan.1            123193 non-null object\n",
      "abc-adjudicacion               117596 non-null object\n",
      "dtypes: float64(4), int64(6), object(17)\n",
      "memory usage: 25.4+ MB\n",
      "None\n"
     ]
    }
   ],
   "source": [
    "import pandas as pd\n",
    "import numpy as np\n",
    "import re\n",
    "\n",
    "df=pd.read_csv(\"datos.csv\", sep=';')\n",
    "\n",
    "def normalize_names():\n",
    "\tnombres=[]\n",
    "\tfor nombre in df.columns:\n",
    "\t\tnombre = nombre.lower()\n",
    "\t\tnombre = re.sub('ó', 'o', nombre)\n",
    "\t\tnombre = re.sub('á', 'a', nombre)\n",
    "\t\tnombre = re.sub('í', 'i', nombre)\n",
    "\t\tnombre = re.sub('é', 'e', nombre)\n",
    "\t\tnombre = re.sub('_', '-', nombre)\n",
    "\t\tnombre = re.sub('ú', 'u', nombre)\n",
    "\t\tnombre = re.sub(' ','-', nombre)\n",
    "\t\tnombres.append(nombre)\t\n",
    "\treturn nombres\n",
    "\n",
    "\n",
    "def cambiocomapunto(nombre):\n",
    "\tnum=[]\n",
    "\tfor numero in df['ingreso-bruto-linea']:\n",
    "\t\t\tnumero = re.sub(',', '.', numero)\n",
    "\t\t\tnum.append(numero)\n",
    "\treturn num\n",
    "\n",
    "df.columns=normalize_names()\n",
    "df['ingreso-bruto-linea'] = cambiocomapunto('ingreso-bruto-linea') \n",
    "df['total-bruto'] =\tcambiocomapunto('total-bruto')\t\n",
    "df['total-bruto.1'] =cambiocomapunto('total-bruto.1')\t\n",
    "\n",
    "df[\"total-bruto\"]= df[\"total-bruto\"].apply(pd.to_numeric, errors='coerce')\n",
    "df[\"total-bruto.1\"]= df[\"total-bruto.1\"].apply(pd.to_numeric, errors='coerce')\n",
    "df[\"tipo-insumo\"] = df[\"tipo-insumo\"].apply\t(pd.to_numeric, errors='coerce')\n",
    "df['año'] = df['año'].apply(str)\n",
    "\n",
    " \n",
    "\t\t\t \n",
    "\t\t\t\n",
    "print(df.info())"
   ]
  },
  {
   "cell_type": "code",
   "execution_count": null,
   "metadata": {},
   "outputs": [],
   "source": []
  }
 ],
 "metadata": {
  "kernelspec": {
   "display_name": "Python 3",
   "language": "python",
   "name": "python3"
  },
  "language_info": {
   "codemirror_mode": {
    "name": "ipython",
    "version": 3
   },
   "file_extension": ".py",
   "mimetype": "text/x-python",
   "name": "python",
   "nbconvert_exporter": "python",
   "pygments_lexer": "ipython3",
   "version": "3.5.2"
  }
 },
 "nbformat": 4,
 "nbformat_minor": 2
}
