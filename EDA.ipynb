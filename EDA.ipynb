{
 "cells": [
  {
   "cell_type": "markdown",
   "metadata": {},
   "source": [
    "# EDA for the data cleanning"
   ]
  },
  {
   "cell_type": "markdown",
   "metadata": {},
   "source": [
    "The first step is to look for inconsistencies in the data like; inconsistencies in the column names, outliers, \n",
    "NAN values, etc."
   ]
  },
  {
   "cell_type": "code",
   "execution_count": 90,
   "metadata": {},
   "outputs": [],
   "source": [
    "# Libraries\n",
    "import pandas as pd\n",
    "\n",
    "# Loading the dataset\n",
    "data = pd.read_csv('tabla.csv', sep=';')"
   ]
  },
  {
   "cell_type": "markdown",
   "metadata": {},
   "source": [
    "### Checking the column names of the data"
   ]
  },
  {
   "cell_type": "code",
   "execution_count": 91,
   "metadata": {
    "scrolled": true
   },
   "outputs": [
    {
     "name": "stdout",
     "output_type": "stream",
     "text": [
      "Index(['#', 'Código de cliente/proveedor', 'vendedor',\n",
      "       'Nombre de cliente/proveedor', 'FA', 'mes', 'año',\n",
      "       'Fecha de contabilización', 'Total bruto', 'Ingreso bruto línea',\n",
      "       'Cantidad FA', 'Número de artículo', 'codigo padre', 'codigo padre.1',\n",
      "       'tipo insumo', 'Descripcion unión', 'Descripción del artículo',\n",
      "       'ID interno de documento', 'NC', 'Fecha de contabilización.1',\n",
      "       'Cantidad NC', 'Total bruto.1', 'Ingreso bruto línea.1', 'CUM',\n",
      "       'tipo cliente juan', 'tipo cliente juan.1', 'ABC ADJUDICACION'],\n",
      "      dtype='object')\n"
     ]
    }
   ],
   "source": [
    "print(data.columns)"
   ]
  },
  {
   "cell_type": "markdown",
   "metadata": {},
   "source": [
    "### Changing the column names"
   ]
  },
  {
   "cell_type": "code",
   "execution_count": 92,
   "metadata": {},
   "outputs": [
    {
     "name": "stdout",
     "output_type": "stream",
     "text": [
      "Index(['#', 'codigo_de_cliente_proveedor', 'vendedor',\n",
      "       'nombre_de_cliente_proveedor', 'fa', 'mes', 'año',\n",
      "       'fecha_de_contabilizacion', 'total_bruto', 'ingreso_bruto_linea',\n",
      "       'cantidad_fa', 'numero_de_articulo', 'codigo_padre', 'codigo_padre_1',\n",
      "       'tipo_insumo', 'descripcion_union', 'descripcion_del_articulo',\n",
      "       'id_interno_de_documento', 'nc', 'fecha_de_contabilizacion_1',\n",
      "       'cantidad_nc', 'total_bruto_1', 'ingreso_bruto_linea_1', 'cum',\n",
      "       'tipo_cliente_juan', 'tipo_cliente_juan_1', 'abc_adjudicacion'],\n",
      "      dtype='object')\n"
     ]
    }
   ],
   "source": [
    "import re\n",
    "\n",
    "# Function to normalize the column names\n",
    "def normalize_names():\n",
    "    names = []\n",
    "    for name in data.columns:\n",
    "        name = name.lower()\n",
    "        name = re.sub(' ', '_', name)\n",
    "        name = re.sub('/', '_', name)\n",
    "        name = re.sub('\\.', '_', name)\n",
    "        name = re.sub('á', 'a', name)\n",
    "        name = re.sub('é', 'e', name)\n",
    "        name = re.sub('í', 'i', name)\n",
    "        name = re.sub('ó', 'o', name)\n",
    "        name = re.sub('ú', 'u', name)\n",
    "        names.append(name)\n",
    "    return names\n",
    "        \n",
    "data.columns = normalize_names()    \n",
    "print(data.columns)"
   ]
  },
  {
   "cell_type": "markdown",
   "metadata": {},
   "source": [
    "The following columns must be eliminated from the dataframe: #, mes, año, numero_de_articulo, codigo_padre, codigo_padre_1, descripcion_union, id_interno_de_documento, nc (this column has many null values and not it recomended), fecha_de_contabilizacion_1 (has many null values), cantidad_nc, total_bruto_1 (has many null values), ingreso_bruto_linea_1 (has many null values)"
   ]
  },
  {
   "cell_type": "markdown",
   "metadata": {},
   "source": [
    "### Eliminating the columns that are not necesary"
   ]
  },
  {
   "cell_type": "code",
   "execution_count": 93,
   "metadata": {},
   "outputs": [
    {
     "name": "stdout",
     "output_type": "stream",
     "text": [
      "Index(['codigo_de_cliente_proveedor', 'vendedor',\n",
      "       'nombre_de_cliente_proveedor', 'fa', 'fecha_de_contabilizacion',\n",
      "       'total_bruto', 'ingreso_bruto_linea', 'cantidad_fa', 'tipo_insumo',\n",
      "       'descripcion_del_articulo', 'cum', 'tipo_cliente_juan',\n",
      "       'tipo_cliente_juan_1', 'abc_adjudicacion'],\n",
      "      dtype='object')\n"
     ]
    }
   ],
   "source": [
    "data = data.drop(['#', 'mes', 'año', 'numero_de_articulo', 'codigo_padre', 'codigo_padre_1', 'descripcion_union', \n",
    "                 'id_interno_de_documento', 'nc', 'fecha_de_contabilizacion_1', 'cantidad_nc', 'total_bruto_1', \n",
    "                 'ingreso_bruto_linea_1'], axis=1)\n",
    "print(data.columns)"
   ]
  },
  {
   "cell_type": "markdown",
   "metadata": {},
   "source": [
    "### Checking the data types "
   ]
  },
  {
   "cell_type": "code",
   "execution_count": 98,
   "metadata": {
    "scrolled": false
   },
   "outputs": [
    {
     "name": "stdout",
     "output_type": "stream",
     "text": [
      "<class 'pandas.core.frame.DataFrame'>\n",
      "DatetimeIndex: 123193 entries, 2016-03-28 to 2017-05-19\n",
      "Data columns (total 13 columns):\n",
      "codigo_de_cliente_proveedor    123193 non-null object\n",
      "vendedor                       123193 non-null object\n",
      "nombre_de_cliente_proveedor    123193 non-null object\n",
      "fa                             123193 non-null int64\n",
      "total_bruto                    123193 non-null float64\n",
      "ingreso_bruto_linea            123193 non-null float64\n",
      "cantidad_fa                    123193 non-null int64\n",
      "tipo_insumo                    123038 non-null category\n",
      "descripcion_del_articulo       123142 non-null object\n",
      "cum                            100011 non-null object\n",
      "tipo_cliente_juan              123193 non-null category\n",
      "tipo_cliente_juan_1            123193 non-null category\n",
      "abc_adjudicacion               117596 non-null object\n",
      "dtypes: category(3), float64(2), int64(2), object(6)\n",
      "memory usage: 10.7+ MB\n",
      "None\n"
     ]
    }
   ],
   "source": [
    "print(data.info())\n"
   ]
  },
  {
   "cell_type": "markdown",
   "metadata": {},
   "source": [
    "total bruto should be float64, ingreso_linea_bruto should be float64, fecha_de_contabilizacion should be a datetime object, \n",
    "cum should be float64, tipo_cliente_juan should be a category, tipo_cliente_juan_1 should be a category and tipo_insumo should be a category\n"
   ]
  },
  {
   "cell_type": "markdown",
   "metadata": {},
   "source": [
    "### Changing the data types"
   ]
  },
  {
   "cell_type": "code",
   "execution_count": 95,
   "metadata": {
    "scrolled": false
   },
   "outputs": [
    {
     "name": "stdout",
     "output_type": "stream",
     "text": [
      "<class 'pandas.core.frame.DataFrame'>\n",
      "RangeIndex: 123193 entries, 0 to 123192\n",
      "Data columns (total 14 columns):\n",
      "codigo_de_cliente_proveedor    123193 non-null object\n",
      "vendedor                       123193 non-null object\n",
      "nombre_de_cliente_proveedor    123193 non-null object\n",
      "fa                             123193 non-null int64\n",
      "fecha_de_contabilizacion       123193 non-null datetime64[ns]\n",
      "total_bruto                    123193 non-null float64\n",
      "ingreso_bruto_linea            123193 non-null float64\n",
      "cantidad_fa                    123193 non-null int64\n",
      "tipo_insumo                    123038 non-null category\n",
      "descripcion_del_articulo       123142 non-null object\n",
      "cum                            100011 non-null object\n",
      "tipo_cliente_juan              123193 non-null category\n",
      "tipo_cliente_juan_1            123193 non-null category\n",
      "abc_adjudicacion               117596 non-null object\n",
      "dtypes: category(3), datetime64[ns](1), float64(2), int64(2), object(6)\n",
      "memory usage: 10.7+ MB\n",
      "None\n"
     ]
    }
   ],
   "source": [
    "def cambiocomapunto(nombre):\n",
    "    num = []\n",
    "    for numero in data[nombre]:\n",
    "        numero = re.sub(',', '.', numero)\n",
    "        num.append(numero)\n",
    "    return num\n",
    "\n",
    "data['ingreso_bruto_linea'] = cambiocomapunto('ingreso_bruto_linea') \n",
    "data['total_bruto'] = cambiocomapunto('total_bruto')\n",
    "\n",
    "s = pd.Series(data[\"total_bruto\"])\n",
    "data[\"total_bruto\"]= pd.to_numeric(s)\n",
    "\n",
    "data.fecha_de_contabilizacion = pd.to_datetime(data.fecha_de_contabilizacion)\n",
    "\n",
    "s = pd.Series(data[\"tipo_insumo\"])\n",
    "data[\"tipo_insumo\"]= pd.to_numeric(s).astype('category')\n",
    "\n",
    "s = pd.Series(data[\"ingreso_bruto_linea\"])\n",
    "data[\"ingreso_bruto_linea\"]= pd.to_numeric(s)\n",
    "\n",
    "data['tipo_cliente_juan'] = data['tipo_cliente_juan'].astype('category')\n",
    "data['tipo_cliente_juan_1'] = data['tipo_cliente_juan_1'].astype('category')\n",
    "\n",
    "\n",
    "print(data.info())"
   ]
  },
  {
   "cell_type": "markdown",
   "metadata": {},
   "source": [
    "### Changing the index of the DataFrame to be a datetime"
   ]
  },
  {
   "cell_type": "code",
   "execution_count": 96,
   "metadata": {
    "scrolled": true
   },
   "outputs": [
    {
     "name": "stdout",
     "output_type": "stream",
     "text": [
      "                         codigo_de_cliente_proveedor            vendedor  \\\n",
      "fecha_de_contabilizacion                                                   \n",
      "2016-03-28                                C821003143  OMAR GIL Y DIOMARY   \n",
      "2016-03-28                                C821003143  OMAR GIL Y DIOMARY   \n",
      "2016-03-28                                C821003143  OMAR GIL Y DIOMARY   \n",
      "2016-03-28                                C821003143  OMAR GIL Y DIOMARY   \n",
      "2016-03-28                                C821003143  OMAR GIL Y DIOMARY   \n",
      "\n",
      "                                                nombre_de_cliente_proveedor  \\\n",
      "fecha_de_contabilizacion                                                      \n",
      "2016-03-28                HOSPITAL DEPARTAMENTAL CENTENARIO DE SEVILLA E...   \n",
      "2016-03-28                HOSPITAL DEPARTAMENTAL CENTENARIO DE SEVILLA E...   \n",
      "2016-03-28                HOSPITAL DEPARTAMENTAL CENTENARIO DE SEVILLA E...   \n",
      "2016-03-28                HOSPITAL DEPARTAMENTAL CENTENARIO DE SEVILLA E...   \n",
      "2016-03-28                HOSPITAL DEPARTAMENTAL CENTENARIO DE SEVILLA E...   \n",
      "\n",
      "                          fa  total_bruto  ingreso_bruto_linea  cantidad_fa  \\\n",
      "fecha_de_contabilizacion                                                      \n",
      "2016-03-28                 1         30.0                  0.0            0   \n",
      "2016-03-28                 1        387.0                  0.0            0   \n",
      "2016-03-28                 1       3100.0                  0.0            0   \n",
      "2016-03-28                 1       5600.0                  0.0            0   \n",
      "2016-03-28                 1      10475.0                  0.0            0   \n",
      "\n",
      "                         tipo_insumo descripcion_del_articulo  cum  \\\n",
      "fecha_de_contabilizacion                                             \n",
      "2016-03-28                       NaN                      NaN  NaN   \n",
      "2016-03-28                       NaN                      NaN  NaN   \n",
      "2016-03-28                       NaN                      NaN  NaN   \n",
      "2016-03-28                       NaN                      NaN  NaN   \n",
      "2016-03-28                       NaN                      NaN  NaN   \n",
      "\n",
      "                         tipo_cliente_juan tipo_cliente_juan_1  \\\n",
      "fecha_de_contabilizacion                                         \n",
      "2016-03-28                               2         NO ASOCIADO   \n",
      "2016-03-28                               2         NO ASOCIADO   \n",
      "2016-03-28                               2         NO ASOCIADO   \n",
      "2016-03-28                               2         NO ASOCIADO   \n",
      "2016-03-28                               2         NO ASOCIADO   \n",
      "\n",
      "                         abc_adjudicacion  \n",
      "fecha_de_contabilizacion                   \n",
      "2016-03-28                            NaN  \n",
      "2016-03-28                            NaN  \n",
      "2016-03-28                            NaN  \n",
      "2016-03-28                            NaN  \n",
      "2016-03-28                            NaN  \n",
      "\n",
      "\n",
      "\n",
      "\n",
      "                         codigo_de_cliente_proveedor vendedor  \\\n",
      "fecha_de_contabilizacion                                        \n",
      "2017-05-18                                 C75059908  DIOMARY   \n",
      "2017-05-19                                 C30386474  DIOMARY   \n",
      "2017-05-19                                 C30405069  DIOMARY   \n",
      "2017-05-19                                 C30405069  DIOMARY   \n",
      "2017-05-19                                 C30405069  DIOMARY   \n",
      "\n",
      "                           nombre_de_cliente_proveedor     fa  total_bruto  \\\n",
      "fecha_de_contabilizacion                                                     \n",
      "2017-05-18                     ESCOBAR LOTERO MAURICIO  22395     10020.99   \n",
      "2017-05-19                BETANCUR AGUDELO MARIA ELENA  22396      8520.00   \n",
      "2017-05-19                    CARVAJAL ALZATE CAROLINA  22397      4200.00   \n",
      "2017-05-19                    CARVAJAL ALZATE CAROLINA  22397      5811.00   \n",
      "2017-05-19                    CARVAJAL ALZATE CAROLINA  22397      1157.00   \n",
      "\n",
      "                          ingreso_bruto_linea  cantidad_fa tipo_insumo  \\\n",
      "fecha_de_contabilizacion                                                 \n",
      "2017-05-18                             420.86            1         2.0   \n",
      "2017-05-19                             360.00          120         1.0   \n",
      "2017-05-19                             200.00           20         1.0   \n",
      "2017-05-19                             298.01            1         2.0   \n",
      "2017-05-19                              57.00            1         1.0   \n",
      "\n",
      "                                                   descripcion_del_articulo  \\\n",
      "fecha_de_contabilizacion                                                      \n",
      "2017-05-18                GUANTE PARA EXAMEN NO ESTERIL LATEX TALLA S 10...   \n",
      "2017-05-19                               ESOMEPRAZOL 20 mg TABLETA (TAKEDA)   \n",
      "2017-05-19                HIOSCINA N-BUTIL BROMURO 10 mg TABLETA (EXPOFA...   \n",
      "2017-05-19                         ALGODON QUIRURGICO ROLLO (TECNOQUIMICAS)   \n",
      "2017-05-19                PEROXIDO DE HIDROGENO 10 VOLUMENES FRASCO 120 ...   \n",
      "\n",
      "                                  cum tipo_cliente_juan tipo_cliente_juan_1  \\\n",
      "fecha_de_contabilizacion                                                      \n",
      "2017-05-18                        NaN                 1            EMPLEADO   \n",
      "2017-05-19                20060286-10                 1            EMPLEADO   \n",
      "2017-05-19                 19973908-2                 1            EMPLEADO   \n",
      "2017-05-19                        NaN                 1            EMPLEADO   \n",
      "2017-05-19                 20004844-1                 1            EMPLEADO   \n",
      "\n",
      "                         abc_adjudicacion  \n",
      "fecha_de_contabilizacion                   \n",
      "2017-05-18                              A  \n",
      "2017-05-19                              A  \n",
      "2017-05-19                              A  \n",
      "2017-05-19                              B  \n",
      "2017-05-19                            NaN  \n"
     ]
    }
   ],
   "source": [
    "data.index = data.fecha_de_contabilizacion\n",
    "data = data.drop(['fecha_de_contabilizacion'], axis=1)\n",
    "print(data.head())\n",
    "print('\\n\\n\\n')\n",
    "print(data.tail())"
   ]
  },
  {
   "cell_type": "markdown",
   "metadata": {},
   "source": [
    "## Exporting the resulting DataFrame"
   ]
  },
  {
   "cell_type": "code",
   "execution_count": 106,
   "metadata": {},
   "outputs": [],
   "source": [
    "json_file = data.to_json(orient='table')\n",
    "with open('tabla_limpia.json', 'w') as file:\n",
    "    file.write(json_file)"
   ]
  }
 ],
 "metadata": {
  "kernelspec": {
   "display_name": "Python 3",
   "language": "python",
   "name": "python3"
  },
  "language_info": {
   "codemirror_mode": {
    "name": "ipython",
    "version": 3
   },
   "file_extension": ".py",
   "mimetype": "text/x-python",
   "name": "python",
   "nbconvert_exporter": "python",
   "pygments_lexer": "ipython3",
   "version": "3.7.1"
  }
 },
 "nbformat": 4,
 "nbformat_minor": 2
}
