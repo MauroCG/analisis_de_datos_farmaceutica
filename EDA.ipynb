{
 "cells": [
  {
   "cell_type": "markdown",
   "metadata": {},
   "source": [
    "# EDA for the dataset"
   ]
  },
  {
   "cell_type": "markdown",
   "metadata": {},
   "source": [
    "The first step is to look for inconsistencies in the data like; inconsistencies in the column names, outliers, \n",
    "NAN values, etc."
   ]
  },
  {
   "cell_type": "code",
   "execution_count": 5,
   "metadata": {},
   "outputs": [],
   "source": [
    "# Libraries\n",
    "import pandas as pd\n",
    "\n",
    "# Loading the dataset\n",
    "data = pd.read_csv('tabla.csv', sep=';')"
   ]
  },
  {
   "cell_type": "markdown",
   "metadata": {},
   "source": [
    "### Checking the column names of the data"
   ]
  },
  {
   "cell_type": "code",
   "execution_count": 6,
   "metadata": {},
   "outputs": [
    {
     "name": "stdout",
     "output_type": "stream",
     "text": [
      "Index(['#', 'Código de cliente/proveedor', 'vendedor',\n",
      "       'Nombre de cliente/proveedor', 'FA', 'mes', 'año',\n",
      "       'Fecha de contabilización', 'Total bruto', 'Ingreso bruto línea',\n",
      "       'Cantidad FA', 'Número de artículo', 'codigo padre', 'codigo padre.1',\n",
      "       'tipo insumo', 'Descripcion unión', 'Descripción del artículo',\n",
      "       'ID interno de documento', 'NC', 'Fecha de contabilización.1',\n",
      "       'Cantidad NC', 'Total bruto.1', 'Ingreso bruto línea.1', 'CUM',\n",
      "       'tipo cliente juan', 'tipo cliente juan.1', 'ABC ADJUDICACION'],\n",
      "      dtype='object')\n"
     ]
    }
   ],
   "source": [
    "print(data.columns)"
   ]
  }
 ],
 "metadata": {
  "kernelspec": {
   "display_name": "Python 3",
   "language": "python",
   "name": "python3"
  },
  "language_info": {
   "codemirror_mode": {
    "name": "ipython",
    "version": 3
   },
   "file_extension": ".py",
   "mimetype": "text/x-python",
   "name": "python",
   "nbconvert_exporter": "python",
   "pygments_lexer": "ipython3",
   "version": "3.6.6"
  }
 },
 "nbformat": 4,
 "nbformat_minor": 2
}
