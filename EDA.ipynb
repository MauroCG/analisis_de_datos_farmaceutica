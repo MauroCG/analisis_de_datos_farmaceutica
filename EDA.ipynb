{
 "cells": [
  {
   "cell_type": "markdown",
   "metadata": {},
   "source": [
    "# EDA for the dataset"
   ]
  },
  {
   "cell_type": "markdown",
   "metadata": {},
   "source": [
    "The first step is to look for inconsistencies in the data like; inconsistencies in the column names, outliers, \n",
    "NAN values, etc."
   ]
  },
  {
   "cell_type": "code",
   "execution_count": 1,
   "metadata": {},
   "outputs": [],
   "source": [
    "# Libraries\n",
    "import pandas as pd\n",
    "\n",
    "# Loading the dataset\n",
    "data = pd.read_csv('tabla.csv', sep=';')"
   ]
  },
  {
   "cell_type": "markdown",
   "metadata": {},
   "source": [
    "### Checking the column names of the data"
   ]
  },
  {
   "cell_type": "code",
   "execution_count": 2,
   "metadata": {},
   "outputs": [
    {
     "name": "stdout",
     "output_type": "stream",
     "text": [
      "Index(['#', 'Código de cliente/proveedor', 'vendedor',\n",
      "       'Nombre de cliente/proveedor', 'FA', 'mes', 'año',\n",
      "       'Fecha de contabilización', 'Total bruto', 'Ingreso bruto línea',\n",
      "       'Cantidad FA', 'Número de artículo', 'codigo padre', 'codigo padre.1',\n",
      "       'tipo insumo', 'Descripcion unión', 'Descripción del artículo',\n",
      "       'ID interno de documento', 'NC', 'Fecha de contabilización.1',\n",
      "       'Cantidad NC', 'Total bruto.1', 'Ingreso bruto línea.1', 'CUM',\n",
      "       'tipo cliente juan', 'tipo cliente juan.1', 'ABC ADJUDICACION'],\n",
      "      dtype='object')\n"
     ]
    }
   ],
   "source": [
    "print(data.columns)"
   ]
  },
  {
   "cell_type": "code",
   "execution_count": 4,
   "metadata": {},
   "outputs": [
    {
     "name": "stdout",
     "output_type": "stream",
     "text": [
      "Index(['#', 'codigo-de-cliente-proveedor', 'vendedor',\n",
      "       'nombre-de-cliente-proveedor', 'fa', 'mes', 'año',\n",
      "       'fecha-de-contabilizacion', 'total-bruto', 'ingreso-bruto-linea',\n",
      "       'cantidad-fa', 'numero-de-articulo', 'codigo-padre', 'codigo-padre.1',\n",
      "       'tipo-insumo', 'descripcion-union', 'descripcion-del-articulo',\n",
      "       'id-interno-de-documento', 'nc', 'fecha-de-contabilizacion.1',\n",
      "       'cantidad-nc', 'total-bruto.1', 'ingreso-bruto-linea.1', 'cum',\n",
      "       'tipo-cliente-juan', 'tipo-cliente-juan.1', 'abc-adjudicacion'],\n",
      "      dtype='object')\n"
     ]
    }
   ],
   "source": [
    "import re\n",
    "\n",
    "# Function to normalize the column names\n",
    "def normalize_names():\n",
    "    names = []\n",
    "    for name in data.columns:\n",
    "        name = name.lower()\n",
    "        name = re.sub(' ', '-', name)\n",
    "        name = re.sub('/', '-', name)\n",
    "        name = re.sub('á', 'a', name)\n",
    "        name = re.sub('é', 'e', name)\n",
    "        name = re.sub('í', 'i', name)\n",
    "        name = re.sub('ó', 'o', name)\n",
    "        name = re.sub('ú', 'u', name)\n",
    "        names.append(name)\n",
    "    return names\n",
    "        \n",
    "data.columns = normalize_names()    \n",
    "print(data.columns)"
   ]
  },
  {
   "cell_type": "markdown",
   "metadata": {},
   "source": [
    "### Checking the data types "
   ]
  },
  {
   "cell_type": "code",
   "execution_count": 5,
   "metadata": {},
   "outputs": [
    {
     "name": "stdout",
     "output_type": "stream",
     "text": [
      "       # codigo-de-cliente-proveedor            vendedor  \\\n",
      "0  19242                  C821003143  OMAR GIL Y DIOMARY   \n",
      "1  19243                  C821003143  OMAR GIL Y DIOMARY   \n",
      "2  19245                  C821003143  OMAR GIL Y DIOMARY   \n",
      "3  19246                  C821003143  OMAR GIL Y DIOMARY   \n",
      "4  19247                  C821003143  OMAR GIL Y DIOMARY   \n",
      "\n",
      "                         nombre-de-cliente-proveedor  fa    mes   año  \\\n",
      "0  HOSPITAL DEPARTAMENTAL CENTENARIO DE SEVILLA E...   1  marzo  2016   \n",
      "1  HOSPITAL DEPARTAMENTAL CENTENARIO DE SEVILLA E...   1  marzo  2016   \n",
      "2  HOSPITAL DEPARTAMENTAL CENTENARIO DE SEVILLA E...   1  marzo  2016   \n",
      "3  HOSPITAL DEPARTAMENTAL CENTENARIO DE SEVILLA E...   1  marzo  2016   \n",
      "4  HOSPITAL DEPARTAMENTAL CENTENARIO DE SEVILLA E...   1  marzo  2016   \n",
      "\n",
      "  fecha-de-contabilizacion total-bruto ingreso-bruto-linea       ...         \\\n",
      "0               28/03/2016          30                   0       ...          \n",
      "1               28/03/2016         387                   0       ...          \n",
      "2               28/03/2016        3100                   0       ...          \n",
      "3               28/03/2016        5600                   0       ...          \n",
      "4               28/03/2016       10475                   0       ...          \n",
      "\n",
      "   id-interno-de-documento  nc fecha-de-contabilizacion.1 cantidad-nc  \\\n",
      "0                     5963 NaN                        NaN           0   \n",
      "1                     5963 NaN                        NaN           0   \n",
      "2                     5963 NaN                        NaN           0   \n",
      "3                     5963 NaN                        NaN           0   \n",
      "4                     5963 NaN                        NaN           0   \n",
      "\n",
      "   total-bruto.1 ingreso-bruto-linea.1  cum  tipo-cliente-juan  \\\n",
      "0              0                     0  NaN                  2   \n",
      "1              0                     0  NaN                  2   \n",
      "2              0                     0  NaN                  2   \n",
      "3              0                     0  NaN                  2   \n",
      "4              0                     0  NaN                  2   \n",
      "\n",
      "   tipo-cliente-juan.1 abc-adjudicacion  \n",
      "0          NO ASOCIADO              NaN  \n",
      "1          NO ASOCIADO              NaN  \n",
      "2          NO ASOCIADO              NaN  \n",
      "3          NO ASOCIADO              NaN  \n",
      "4          NO ASOCIADO              NaN  \n",
      "\n",
      "[5 rows x 27 columns]\n",
      "<class 'pandas.core.frame.DataFrame'>\n",
      "RangeIndex: 123193 entries, 0 to 123192\n",
      "Data columns (total 27 columns):\n",
      "#                              123193 non-null int64\n",
      "codigo-de-cliente-proveedor    123193 non-null object\n",
      "vendedor                       123193 non-null object\n",
      "nombre-de-cliente-proveedor    123193 non-null object\n",
      "fa                             123193 non-null int64\n",
      "mes                            123193 non-null object\n",
      "año                            123193 non-null int64\n",
      "fecha-de-contabilizacion       123193 non-null object\n",
      "total-bruto                    123193 non-null object\n",
      "ingreso-bruto-linea            123193 non-null object\n",
      "cantidad-fa                    123193 non-null int64\n",
      "numero-de-articulo             123142 non-null object\n",
      "codigo-padre                   123142 non-null object\n",
      "codigo-padre.1                 123142 non-null object\n",
      "tipo-insumo                    123038 non-null float64\n",
      "descripcion-union              123142 non-null object\n",
      "descripcion-del-articulo       123142 non-null object\n",
      "id-interno-de-documento        123193 non-null int64\n",
      "nc                             3962 non-null float64\n",
      "fecha-de-contabilizacion.1     3962 non-null object\n",
      "cantidad-nc                    123193 non-null int64\n",
      "total-bruto.1                  123193 non-null object\n",
      "ingreso-bruto-linea.1          123193 non-null object\n",
      "cum                            100011 non-null object\n",
      "tipo-cliente-juan              123193 non-null int64\n",
      "tipo-cliente-juan.1            123193 non-null object\n",
      "abc-adjudicacion               117596 non-null object\n",
      "dtypes: float64(2), int64(7), object(18)\n",
      "memory usage: 16.9+ MB\n",
      "None\n"
     ]
    }
   ],
   "source": [
    "print(data.head())\n",
    "print(data.info())\n"
   ]
  },
  {
   "cell_type": "markdown",
   "metadata": {},
   "source": [
    "año should be object, total bruto should be float64, ingreso-linea-bruto should be float64, \n",
    "total-bruto.1 should be foat64, ingreso-bruto-linea.1 should be float64, cum should be float64, \n",
    "tipo-cliente-juan should be object and tipo-insumo should be object\n"
   ]
  }
 ],
 "metadata": {
  "kernelspec": {
   "display_name": "Python 3",
   "language": "python",
   "name": "python3"
  },
  "language_info": {
   "codemirror_mode": {
    "name": "ipython",
    "version": 3
   },
   "file_extension": ".py",
   "mimetype": "text/x-python",
   "name": "python",
   "nbconvert_exporter": "python",
   "pygments_lexer": "ipython3",
   "version": "3.6.6"
  }
 },
 "nbformat": 4,
 "nbformat_minor": 2
}
